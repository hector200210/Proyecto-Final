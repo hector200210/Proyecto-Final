{
  "nbformat": 4,
  "nbformat_minor": 0,
  "metadata": {
    "colab": {
      "provenance": []
    },
    "kernelspec": {
      "name": "python3",
      "display_name": "Python 3"
    },
    "language_info": {
      "name": "python"
    }
  },
  "cells": [
    {
      "cell_type": "markdown",
      "source": [
        "# Metodo de Birge - Vieta.\n",
        "## Tarea 3.\n",
        "Sea $f(x) = x^3 - 5x^2 + 5x - 1$, con $x_0 = 0.8$"
      ],
      "metadata": {
        "id": "Bvrlv7vaVTjo"
      }
    },
    {
      "cell_type": "code",
      "source": [
        "import numpy as np\n",
        "import matplotlib.pyplot as plt\n",
        "\n",
        "fx = lambda x: x**3 - 5*x**2 + 5*x - 1\n",
        "\n",
        "raiz_1 = lambda a, b, c: (-b+np.sqrt(b**2-4*a*c))/(2*a)\n",
        "raiz_2 = lambda a, b, c: (-b-np.sqrt(b**2-4*a*c))/(2*a)\n",
        "\n",
        "a = np.array([1,-5,5,-1]) # La doble [[]] es por las filas y columnas, es bidimensional.\n",
        "xi = 0.8\n",
        "\n",
        "b = np.empty(len(a)) #empty es para mas rapidez\n",
        "c = np.empty(len(a))\n",
        "#print(b)\n",
        "num_iteraciones = 10\n",
        "n = len(a)\n",
        "\n",
        "#Division sintetica.\n",
        "for i in range(1,num_iteraciones + 1): #Hace las iteraciones\n",
        "    for j in range(n): #recorre los vectores (div, sintetica)\n",
        "        if j==0:\n",
        "            b[j] = a[j]\n",
        "            c[j] = a[j]\n",
        "        else:\n",
        "            b[j] = a[j]+xi*b[j-1]\n",
        "            c[j] = b[j]+xi*c[j-1]\n",
        "        xi_viejo = xi\n",
        "    xi = round(xi_viejo - (b[n-1]/c[n-2]),5)\n",
        "    print(f'Iteracion: {i} ')\n",
        "    print(f'xi = {xi_viejo} ')\n",
        "    print(b)\n",
        "    print(c)\n",
        "    print('\\n')\n",
        "    if i == num_iteraciones:\n",
        "        raiz1 = round(raiz_1(b[0],b[1],b[2]),5)\n",
        "        raiz2 = round(raiz_2(b[0],b[1],b[2]),5)\n",
        "        print(f'Raices: x1= {raiz1} y x2= {raiz2}')\n",
        "        print('\\n')\n",
        "\n",
        "x = np.linspace(-1,3,1000)\n",
        "plt.plot(x,fx(x))\n",
        "plt.plot(xi,fx(xi),'ro') #son las coordenadas.\n",
        "plt.grid()\n",
        "plt.show()"
      ],
      "metadata": {
        "colab": {
          "base_uri": "https://localhost:8080/",
          "height": 1000
        },
        "id": "WAlxxJhJUoMu",
        "outputId": "398c045a-20b7-474d-dd56-572ae1a6b461"
      },
      "execution_count": null,
      "outputs": [
        {
          "output_type": "stream",
          "name": "stdout",
          "text": [
            "Iteracion: 1 \n",
            "xi = 0.8 \n",
            "[ 1.    -4.2    1.64   0.312]\n",
            "[ 1.    -3.4   -1.08  -0.552]\n",
            "\n",
            "\n",
            "Iteracion: 2 \n",
            "xi = 1.08889 \n",
            "[ 1.         -3.91111     0.74123143 -0.19288051]\n",
            "[ 1.         -2.82222    -2.3318557  -2.73201486]\n",
            "\n",
            "\n",
            "Iteracion: 3 \n",
            "xi = 1.00617 \n",
            "[ 1.         -3.99383     0.98152807 -0.0124159 ]\n",
            "[ 1.         -2.98766    -2.02456579 -2.04947327]\n",
            "\n",
            "\n",
            "Iteracion: 4 \n",
            "xi = 1.00004 \n",
            "[ 1.00000000e+00 -3.99996000e+00  9.99880002e-01 -8.00031999e-05]\n",
            "[ 1.      -2.99992 -2.00016 -2.00032]\n",
            "\n",
            "\n",
            "Iteracion: 5 \n",
            "xi = 1.0 \n",
            "[ 1. -4.  1.  0.]\n",
            "[ 1. -3. -2. -2.]\n",
            "\n",
            "\n",
            "Iteracion: 6 \n",
            "xi = 1.0 \n",
            "[ 1. -4.  1.  0.]\n",
            "[ 1. -3. -2. -2.]\n",
            "\n",
            "\n",
            "Iteracion: 7 \n",
            "xi = 1.0 \n",
            "[ 1. -4.  1.  0.]\n",
            "[ 1. -3. -2. -2.]\n",
            "\n",
            "\n",
            "Iteracion: 8 \n",
            "xi = 1.0 \n",
            "[ 1. -4.  1.  0.]\n",
            "[ 1. -3. -2. -2.]\n",
            "\n",
            "\n",
            "Iteracion: 9 \n",
            "xi = 1.0 \n",
            "[ 1. -4.  1.  0.]\n",
            "[ 1. -3. -2. -2.]\n",
            "\n",
            "\n",
            "Iteracion: 10 \n",
            "xi = 1.0 \n",
            "[ 1. -4.  1.  0.]\n",
            "[ 1. -3. -2. -2.]\n",
            "\n",
            "\n",
            "Raices: x1= 3.73205 y x2= 0.26795\n",
            "\n",
            "\n"
          ]
        },
        {
          "output_type": "display_data",
          "data": {
            "text/plain": [
              "<Figure size 640x480 with 1 Axes>"
            ],
            "image/png": "[encoded data removed]"
          },
          "metadata": {}
        }
      ]
    },
    {
      "cell_type": "code",
      "source": [],
      "metadata": {
        "id": "KE-c13dbYaph"
      },
      "execution_count": null,
      "outputs": []
    }
  ]
}