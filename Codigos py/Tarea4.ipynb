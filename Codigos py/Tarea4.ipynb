{
  "nbformat": 4,
  "nbformat_minor": 0,
  "metadata": {
    "colab": {
      "provenance": []
    },
    "kernelspec": {
      "name": "python3",
      "display_name": "Python 3"
    },
    "language_info": {
      "name": "python"
    }
  },
  "cells": [
    {
      "cell_type": "markdown",
      "source": [
        "## Metodo GAUSS JORDAN"
      ],
      "metadata": {
        "id": "PeBuJVwrWlaJ"
      }
    },
    {
      "cell_type": "code",
      "source": [
        "#Primer sistema.\n",
        "import numpy as np\n",
        "A = np.array([[4,-2,1],[-2,4,-2],[1,-2,4]])\n",
        "b = np.array([[11],[-16],[17]])\n",
        "Primer = np.linalg.solve(A,b)\n",
        "Primer"
      ],
      "metadata": {
        "colab": {
          "base_uri": "https://localhost:8080/"
        },
        "id": "JABG558HWk2G",
        "outputId": "6472343b-51a9-4c2a-f7b9-cc9c44ff3fd4"
      },
      "execution_count": 6,
      "outputs": [
        {
          "output_type": "execute_result",
          "data": {
            "text/plain": [
              "array([[ 1.],\n",
              "       [-2.],\n",
              "       [ 3.]])"
            ]
          },
          "metadata": {},
          "execution_count": 6
        }
      ]
    },
    {
      "cell_type": "code",
      "source": [
        "#Segundo sistema\n",
        "import numpy as np\n",
        "A = np.array([[1,1,1],[1,2,5],[1,4,25]])\n",
        "b = np.array([[6],[12],[36]])\n",
        "Segundo = np.linalg.solve(A,b)\n",
        "Segundo"
      ],
      "metadata": {
        "colab": {
          "base_uri": "https://localhost:8080/"
        },
        "id": "Vz0ydgd2XZXF",
        "outputId": "73664bc8-ab6f-4a58-af90-92a83baf8fff"
      },
      "execution_count": 7,
      "outputs": [
        {
          "output_type": "execute_result",
          "data": {
            "text/plain": [
              "array([[3.],\n",
              "       [2.],\n",
              "       [1.]])"
            ]
          },
          "metadata": {},
          "execution_count": 7
        }
      ]
    },
    {
      "cell_type": "code",
      "source": [
        "#Tercer sistema\n",
        "import numpy as np\n",
        "A = np.array([[1,2,1],[3,8,1],[0,4,1]])\n",
        "b = np.array([[2],[12],[2]])\n",
        "Tercer = np.linalg.solve(A,b)\n",
        "Tercer"
      ],
      "metadata": {
        "colab": {
          "base_uri": "https://localhost:8080/"
        },
        "id": "IpAmAS57fmkP",
        "outputId": "dc546149-0f03-4309-ce5c-15b3bf0dc2a5"
      },
      "execution_count": 8,
      "outputs": [
        {
          "output_type": "execute_result",
          "data": {
            "text/plain": [
              "array([[ 2.],\n",
              "       [ 1.],\n",
              "       [-2.]])"
            ]
          },
          "metadata": {},
          "execution_count": 8
        }
      ]
    },
    {
      "cell_type": "markdown",
      "source": [
        "## Metodo de la matriz inversa, $x = A^{-1}b$"
      ],
      "metadata": {
        "id": "yhRRH7Wmnw46"
      }
    },
    {
      "cell_type": "code",
      "source": [
        "#Primer sistema\n",
        "import numpy as np\n",
        "A = np.array([[4,-2,1],[-2,4,-2],[1,-2,4]])\n",
        "b = np.array([[11],[-16],[17]])\n",
        "#Comprobamos la matriz inversa\n",
        "np.linalg.inv(A)"
      ],
      "metadata": {
        "id": "CI0HUUeOloBE",
        "colab": {
          "base_uri": "https://localhost:8080/"
        },
        "outputId": "90e0487d-a1d6-42bb-8b12-5af74b226f9d"
      },
      "execution_count": 9,
      "outputs": [
        {
          "output_type": "execute_result",
          "data": {
            "text/plain": [
              "array([[0.33333333, 0.16666667, 0.        ],\n",
              "       [0.16666667, 0.41666667, 0.16666667],\n",
              "       [0.        , 0.16666667, 0.33333333]])"
            ]
          },
          "metadata": {},
          "execution_count": 9
        }
      ]
    },
    {
      "cell_type": "code",
      "source": [
        "#Comprobamos la solucion.\n",
        "x = np.linalg.inv(A)@b\n",
        "x"
      ],
      "metadata": {
        "colab": {
          "base_uri": "https://localhost:8080/"
        },
        "id": "QotZiyRMcgO_",
        "outputId": "6ed6ef07-cd76-4936-a598-140c83bc7cef"
      },
      "execution_count": 10,
      "outputs": [
        {
          "output_type": "execute_result",
          "data": {
            "text/plain": [
              "array([[ 1.],\n",
              "       [-2.],\n",
              "       [ 3.]])"
            ]
          },
          "metadata": {},
          "execution_count": 10
        }
      ]
    },
    {
      "cell_type": "code",
      "source": [
        "#Segundo sistema\n",
        "import numpy as np\n",
        "A = np.array([[1,1,1],[1,2,5],[1,4,25]])\n",
        "b = np.array([[6],[12],[36]])\n",
        "#Comprobamos la matriz inversa\n",
        "np.linalg.inv(A)"
      ],
      "metadata": {
        "id": "1BGaiSobvbFW",
        "colab": {
          "base_uri": "https://localhost:8080/"
        },
        "outputId": "cb35c6f8-3c74-48a7-cffd-c29b3760fab8"
      },
      "execution_count": 11,
      "outputs": [
        {
          "output_type": "execute_result",
          "data": {
            "text/plain": [
              "array([[ 2.5       , -1.75      ,  0.25      ],\n",
              "       [-1.66666667,  2.        , -0.33333333],\n",
              "       [ 0.16666667, -0.25      ,  0.08333333]])"
            ]
          },
          "metadata": {},
          "execution_count": 11
        }
      ]
    },
    {
      "cell_type": "code",
      "source": [
        "#Comprobamos la solucion.\n",
        "x = np.linalg.inv(A)@b\n",
        "x"
      ],
      "metadata": {
        "colab": {
          "base_uri": "https://localhost:8080/"
        },
        "id": "baeTuOaRIHfi",
        "outputId": "fbd8d91f-4660-4f45-ec26-3e5dbfa7425b"
      },
      "execution_count": 12,
      "outputs": [
        {
          "output_type": "execute_result",
          "data": {
            "text/plain": [
              "array([[3.],\n",
              "       [2.],\n",
              "       [1.]])"
            ]
          },
          "metadata": {},
          "execution_count": 12
        }
      ]
    },
    {
      "cell_type": "code",
      "source": [
        "#Tercer sistema\n",
        "import numpy as np\n",
        "A = np.array([[1,2,1],[3,8,1],[0,4,1]])\n",
        "b = np.array([[2],[12],[2]])\n",
        "#Comprobamos la matriz inversa\n",
        "np.linalg.inv(A)"
      ],
      "metadata": {
        "colab": {
          "base_uri": "https://localhost:8080/"
        },
        "id": "Mnx1udqz0ci-",
        "outputId": "25c60db1-851e-46d2-974d-8372e8203541"
      },
      "execution_count": 13,
      "outputs": [
        {
          "output_type": "execute_result",
          "data": {
            "text/plain": [
              "array([[ 0.4,  0.2, -0.6],\n",
              "       [-0.3,  0.1,  0.2],\n",
              "       [ 1.2, -0.4,  0.2]])"
            ]
          },
          "metadata": {},
          "execution_count": 13
        }
      ]
    },
    {
      "cell_type": "code",
      "source": [
        "#Comprobamos la solucion.\n",
        "x = np.linalg.inv(A)@b\n",
        "x"
      ],
      "metadata": {
        "colab": {
          "base_uri": "https://localhost:8080/"
        },
        "id": "-36Ys7UhISMT",
        "outputId": "1bc96c48-50fc-4b59-96e3-d32d1fa39a70"
      },
      "execution_count": 14,
      "outputs": [
        {
          "output_type": "execute_result",
          "data": {
            "text/plain": [
              "array([[ 2.],\n",
              "       [ 1.],\n",
              "       [-2.]])"
            ]
          },
          "metadata": {},
          "execution_count": 14
        }
      ]
    },
    {
      "cell_type": "markdown",
      "source": [
        "## Metodo de Cramer"
      ],
      "metadata": {
        "id": "z5EYl4bLLLvs"
      }
    },
    {
      "cell_type": "code",
      "source": [
        "#Primer sistema\n",
        "#b = [11,-16,17]\n",
        "import numpy as np\n",
        "A = np.array([[4,-2,1],[-2,4,-2],[1,-2,4]])\n",
        "X_1 = np.array([[11,-2,1],[-16,4,-2],[17,-2,4]])\n",
        "Y_1 = np.array([[4,11,1],[-2,-16,-2],[1,17,4]])\n",
        "Z_1 = np.array([[4,-2,11],[-2,4,-16],[1,-2,17]])\n",
        "X = np.linalg.det(X_1)/np.linalg.det(A)\n",
        "Y = np.linalg.det(Y_1)/np.linalg.det(A)\n",
        "Z = np.linalg.det(Z_1)/np.linalg.det(A)\n",
        "print(f'Los determinantes son Dg={np.linalg.det(A)} Dx={np.linalg.det(X_1)}, Dy={np.linalg.det(Y_1)}, Dz={np.linalg.det(Z_1)}')\n",
        "print(f'Las soluciones son x={X}, y={Y}, z={Z}')"
      ],
      "metadata": {
        "colab": {
          "base_uri": "https://localhost:8080/"
        },
        "id": "6TLJ-OW50jXs",
        "outputId": "9e16c864-cd9a-4178-a631-a511c579f7bb"
      },
      "execution_count": 15,
      "outputs": [
        {
          "output_type": "stream",
          "name": "stdout",
          "text": [
            "Los determinantes son Dg=36.0 Dx=36.0, Dy=-72.0, Dz=108.00000000000003\n",
            "Las soluciones son x=1.0, y=-2.0, z=3.000000000000001\n"
          ]
        }
      ]
    },
    {
      "cell_type": "code",
      "source": [
        "#Segundo sistema\n",
        "#b = [6,12,36]\n",
        "import numpy as np\n",
        "A = np.array([[1,1,1],[1,2,5],[1,4,25]])\n",
        "X_1 = np.array([[6,1,1],[12,2,5],[36,4,25]])\n",
        "Y_1 = np.array([[1,6,1],[1,12,5],[1,36,25]])\n",
        "Z_1 = np.array([[1,1,6],[1,2,12],[1,4,36]])\n",
        "X = np.linalg.det(X_1)/np.linalg.det(A)\n",
        "Y = np.linalg.det(Y_1)/np.linalg.det(A)\n",
        "Z = np.linalg.det(Z_1)/np.linalg.det(A)\n",
        "print(f'Los determinantes son Dg={np.linalg.det(A)} Dx={np.linalg.det(X_1)}, Dy={np.linalg.det(Y_1)}, Dz={np.linalg.det(Z_1)}')\n",
        "print(f'Las soluciones son x={X}, y={Y}, z={Z}')"
      ],
      "metadata": {
        "colab": {
          "base_uri": "https://localhost:8080/"
        },
        "id": "Uunh-mQXNKOt",
        "outputId": "c501fd06-f3c3-4531-b6ac-1e3b59302e8c"
      },
      "execution_count": 16,
      "outputs": [
        {
          "output_type": "stream",
          "name": "stdout",
          "text": [
            "Los determinantes son Dg=12.0 Dx=36.0, Dy=24.000000000000025, Dz=12.0\n",
            "Las soluciones son x=3.0, y=2.000000000000002, z=1.0\n"
          ]
        }
      ]
    },
    {
      "cell_type": "code",
      "source": [
        "#Tercer sistema\n",
        "#b = [2,12,2]\n",
        "import numpy as np\n",
        "A = np.array([[1,2,1],[3,8,1],[0,4,1]])\n",
        "X_1 = np.array([[2,2,1],[12,8,1],[2,4,1]])\n",
        "Y_1 = np.array([[1,2,1],[3,12,1],[0,2,1]])\n",
        "Z_1 = np.array([[1,2,2],[3,8,12],[0,4,2]])\n",
        "X = np.linalg.det(X_1)/np.linalg.det(A)\n",
        "Y = np.linalg.det(Y_1)/np.linalg.det(A)\n",
        "Z = np.linalg.det(Z_1)/np.linalg.det(A)\n",
        "print(f'Los determinantes son Dg={np.linalg.det(A)} Dx={np.linalg.det(X_1)}, Dy={np.linalg.det(Y_1)}, Dz={np.linalg.det(Z_1)}')\n",
        "print(f'Las soluciones son x={X}, y={Y}, z={Z}')"
      ],
      "metadata": {
        "colab": {
          "base_uri": "https://localhost:8080/"
        },
        "id": "GgXM4Ym2TItC",
        "outputId": "d00e04a7-7637-4b52-ca7d-ac2626a69ec2"
      },
      "execution_count": 17,
      "outputs": [
        {
          "output_type": "stream",
          "name": "stdout",
          "text": [
            "Los determinantes son Dg=9.999999999999998 Dx=19.999999999999996, Dy=10.000000000000002, Dz=-20.000000000000007\n",
            "Las soluciones son x=2.0, y=1.0000000000000004, z=-2.000000000000001\n"
          ]
        }
      ]
    },
    {
      "cell_type": "markdown",
      "source": [
        "# Metodo de LU por algoritmo de Dolittle"
      ],
      "metadata": {
        "id": "J_kX9ET_do2v"
      }
    },
    {
      "cell_type": "code",
      "source": [
        "#Segundo sistema\n",
        "import numpy as np\n",
        "A = np.array([[1,1,1],[1,2,5],[1,4,25]])\n",
        "L= np.zeros((3,3))\n",
        "U= np.zeros((3,3))\n",
        "#Los elementos d ela diagonal principal son 1\n",
        "L[0][0] = 1\n",
        "L[1][1] = 1\n",
        "L[2][2] = 1\n",
        "U[0,:] = A[0,:] #primera fila de A es la misma de U\n",
        "L[1][0] = A[1][0]/U[0][0]\n",
        "U[1][1] = A[1][1] - L[1][0]*U[0][1] #Se estan siguiendo las formulitas\n",
        "U[1][2] = A[1][2]-L[1][0]*U[0][2]\n",
        "L[2][0] = A[2][0]/U[0][0]\n",
        "L[2][1] = (A[2][1]-L[2][0]*U[0][1])/U[1][1]\n",
        "U[2][2] = A[2][2]-L[2][0]*U[0][2]-L[2][1]*U[1][2]\n",
        "b = np.array([[6],[12],[36]])\n",
        "Z = np.linalg.solve(L,b)\n",
        "X = np.linalg.solve(U,Z)\n",
        "X"
      ],
      "metadata": {
        "colab": {
          "base_uri": "https://localhost:8080/"
        },
        "id": "75WLsyaFLx9A",
        "outputId": "e09fdaa2-0429-4eb6-94f5-4fd6d5ef54f3"
      },
      "execution_count": 18,
      "outputs": [
        {
          "output_type": "execute_result",
          "data": {
            "text/plain": [
              "array([[3.],\n",
              "       [2.],\n",
              "       [1.]])"
            ]
          },
          "metadata": {},
          "execution_count": 18
        }
      ]
    },
    {
      "cell_type": "code",
      "source": [
        "A = L@U\n",
        "A"
      ],
      "metadata": {
        "colab": {
          "base_uri": "https://localhost:8080/"
        },
        "id": "I8h4LSq0McIV",
        "outputId": "b490d729-8a92-4b3d-b72d-247ddc91d527"
      },
      "execution_count": 19,
      "outputs": [
        {
          "output_type": "execute_result",
          "data": {
            "text/plain": [
              "array([[ 1.,  1.,  1.],\n",
              "       [ 1.,  2.,  5.],\n",
              "       [ 1.,  4., 25.]])"
            ]
          },
          "metadata": {},
          "execution_count": 19
        }
      ]
    },
    {
      "cell_type": "code",
      "source": [
        "#Tercer sitema\n",
        "import numpy as np\n",
        "A = np.array([[1,2,1],[3,8,1],[0,4,1]])\n",
        "L= np.zeros((3,3))\n",
        "U= np.zeros((3,3))\n",
        "#Los elementos d ela diagonal principal son 1\n",
        "L[0][0] = 1\n",
        "L[1][1] = 1\n",
        "L[2][2] = 1\n",
        "U[0,:] = A[0,:] #primera fila de A es la misma de U\n",
        "L[1][0] = A[1][0]/U[0][0]\n",
        "U[1][1] = A[1][1] - L[1][0]*U[0][1] #Se estan siguiendo las formulitas\n",
        "U[1][2] = A[1][2]-L[1][0]*U[0][2]\n",
        "L[2][0] = A[2][0]/U[0][0]\n",
        "L[2][1] = (A[2][1]-L[2][0]*U[0][1])/U[1][1]\n",
        "U[2][2] = A[2][2]-L[2][0]*U[0][2]-L[2][1]*U[1][2]\n",
        "b = np.array([[2],[12],[2]])\n",
        "Z = np.linalg.solve(L,b)\n",
        "X = np.linalg.solve(U,Z)\n",
        "X"
      ],
      "metadata": {
        "id": "4J3d0M6dVZJm",
        "colab": {
          "base_uri": "https://localhost:8080/"
        },
        "outputId": "01ad9cc3-4eb2-428e-e389-e3ae6b613053"
      },
      "execution_count": 20,
      "outputs": [
        {
          "output_type": "execute_result",
          "data": {
            "text/plain": [
              "array([[ 2.],\n",
              "       [ 1.],\n",
              "       [-2.]])"
            ]
          },
          "metadata": {},
          "execution_count": 20
        }
      ]
    },
    {
      "cell_type": "code",
      "source": [
        "A = L@U\n",
        "A"
      ],
      "metadata": {
        "colab": {
          "base_uri": "https://localhost:8080/"
        },
        "id": "HWU-ujIHge88",
        "outputId": "c6e8517e-a422-47d3-8231-4915138c3bb2"
      },
      "execution_count": 21,
      "outputs": [
        {
          "output_type": "execute_result",
          "data": {
            "text/plain": [
              "array([[1., 2., 1.],\n",
              "       [3., 8., 1.],\n",
              "       [0., 4., 1.]])"
            ]
          },
          "metadata": {},
          "execution_count": 21
        }
      ]
    },
    {
      "cell_type": "markdown",
      "source": [
        "#Comprobacion Cholesky\n",
        "Solo del sistema (2), en el sistema (3) no hay descomposicion Cholesky."
      ],
      "metadata": {
        "id": "Kb0HIYREMo7B"
      }
    },
    {
      "cell_type": "code",
      "source": [
        "#Segundo sistema\n",
        "import numpy as np\n",
        "A = np.array([[1,1,1],[1,2,5],[1,4,25]])\n",
        "L= np.zeros((3,3))\n",
        "L[0][0] = np.sqrt(A[0][0])\n",
        "L[1][0] = A[1][0]/L[0][0]\n",
        "L[2][0] = A[2][0]/L[0][0]\n",
        "L[1][1] = np.sqrt(A[1][1]-L[1][0]**2)\n",
        "L[2][1] = (A[2][1]-L[1][0]*L[2][0])/L[1][1]\n",
        "L[2][2] = np.sqrt(A[2][2]-L[2][0]**2-L[2][1]**2)\n",
        "Lt = np.transpose(L)\n",
        "A0 = L@Lt\n",
        "A0"
      ],
      "metadata": {
        "colab": {
          "base_uri": "https://localhost:8080/"
        },
        "id": "tH95G1BRMq6m",
        "outputId": "f310f84b-75fd-4323-8ce9-fddd34b176ac"
      },
      "execution_count": 22,
      "outputs": [
        {
          "output_type": "execute_result",
          "data": {
            "text/plain": [
              "array([[ 1.,  1.,  1.],\n",
              "       [ 1.,  2.,  4.],\n",
              "       [ 1.,  4., 25.]])"
            ]
          },
          "metadata": {},
          "execution_count": 22
        }
      ]
    },
    {
      "cell_type": "markdown",
      "source": [
        "# Metodo Jacobi."
      ],
      "metadata": {
        "id": "24WnysmCzI1M"
      }
    },
    {
      "cell_type": "code",
      "source": [
        "import numpy as np\n",
        "A = np.array([[1,-0.1,-0.2],[0.1,7,-0.3],[0.3,-0.2,-10]])\n",
        "b = np.array([[7.85],[19.3],[71.4]])\n",
        "error_rel = lambda vn, vv: (np.abs(vn - vv)/np.abs(vn))*100\n",
        "\n",
        "x1_viejo = 0;\n",
        "x2_viejo = 0;\n",
        "x3_viejo = 0;\n",
        "num_iteraciones = 5;\n",
        "\n",
        "for i in range(num_iteraciones):\n",
        "  x1_nuevo = round((b[0][0]-A[0][1]*x2_viejo-A[0][2]*x3_viejo)/A[0][0],4)\n",
        "  x2_nuevo = round((b[1][0]-A[1][0]*x1_viejo-A[1][2]*x3_viejo)/A[1][1],4)\n",
        "  x3_nuevo = round((b[2][0]-A[2][0]*x1_viejo-A[2][1]*x2_viejo)/A[2][2],4)\n",
        "  print(f'i={i+1}\\n')\n",
        "  print(f'x1= {x1_nuevo} ; x2= {x2_nuevo} ; x3= {x3_nuevo}\\n')\n",
        "  error_x1 = round(error_rel(x1_nuevo,x1_viejo),4)\n",
        "  error_x2 = round(error_rel(x2_nuevo,x2_viejo),4)\n",
        "  error_x3 = round(error_rel(x3_nuevo,x3_viejo),4)\n",
        "  x1_viejo = x1_nuevo\n",
        "  x2_viejo = x2_nuevo\n",
        "  x3_viejo = x3_nuevo\n",
        "  print(f'Er(x1)= {error_x1} ; Er(x2)= {error_x2} ; Er(x3)= {error_x3}\\n')\n",
        "  print('\\n')"
      ],
      "metadata": {
        "id": "vWMfJp2CQB2J",
        "colab": {
          "base_uri": "https://localhost:8080/"
        },
        "outputId": "7ad4f814-cfcc-40cf-dc98-ca19b0f49687"
      },
      "execution_count": 38,
      "outputs": [
        {
          "output_type": "stream",
          "name": "stdout",
          "text": [
            "i=1\n",
            "\n",
            "x1= 7.85 ; x2= 2.7571 ; x3= -7.14\n",
            "\n",
            "Er(x1)= 100.0 ; Er(x2)= 100.0 ; Er(x3)= 100.0\n",
            "\n",
            "\n",
            "\n",
            "i=2\n",
            "\n",
            "x1= 6.6977 ; x2= 2.339 ; x3= -6.9596\n",
            "\n",
            "Er(x1)= 17.2044 ; Er(x2)= 17.8752 ; Er(x3)= 2.5921\n",
            "\n",
            "\n",
            "\n",
            "i=3\n",
            "\n",
            "x1= 6.692 ; x2= 2.3632 ; x3= -6.9858\n",
            "\n",
            "Er(x1)= 0.0852 ; Er(x2)= 1.024 ; Er(x3)= 0.375\n",
            "\n",
            "\n",
            "\n",
            "i=4\n",
            "\n",
            "x1= 6.6892 ; x2= 2.3622 ; x3= -6.9865\n",
            "\n",
            "Er(x1)= 0.0419 ; Er(x2)= 0.0423 ; Er(x3)= 0.01\n",
            "\n",
            "\n",
            "\n",
            "i=5\n",
            "\n",
            "x1= 6.6889 ; x2= 2.3622 ; x3= -6.9866\n",
            "\n",
            "Er(x1)= 0.0045 ; Er(x2)= 0.0 ; Er(x3)= 0.0014\n",
            "\n",
            "\n",
            "\n"
          ]
        }
      ]
    },
    {
      "cell_type": "markdown",
      "source": [
        "# Metodo Gauss-Seidel"
      ],
      "metadata": {
        "id": "fn0zdCTjNrbR"
      }
    },
    {
      "cell_type": "code",
      "source": [
        "import numpy as np\n",
        "A = np.array([[1,-0.1,-0.2],[0.1,7,-0.3],[0.3,-0.2,-10]])\n",
        "b = np.array([[7.85],[19.3],[71.4]])\n",
        "error_rel = lambda vn, vv: (np.abs(vn - vv)/np.abs(vn))*100\n",
        "\n",
        "x1_viejo = 0;\n",
        "x2_viejo = 0;\n",
        "x3_viejo = 0;\n",
        "num_iteraciones = 5;\n",
        "\n",
        "for i in range(num_iteraciones):\n",
        "  x1_nuevo = round((b[0][0]-A[0][1]*x2_viejo-A[0][2]*x3_viejo)/A[0][0],4)\n",
        "  x2_nuevo = round((b[1][0]-A[1][0]*x1_nuevo-A[1][2]*x3_viejo)/A[1][1],4)\n",
        "  x3_nuevo = round((b[2][0]-A[2][0]*x1_nuevo-A[2][1]*x2_nuevo)/A[2][2],4)\n",
        "  print(f'i={i+1}')\n",
        "  print(f'x1= {x1_nuevo} ; x2= {x2_nuevo} ; x3= {x3_nuevo}\\n')\n",
        "  error_x1 = round(error_rel(x1_nuevo,x1_viejo),4)\n",
        "  error_x2 = round(error_rel(x2_nuevo,x2_viejo),4)\n",
        "  error_x3 = round(error_rel(x3_nuevo,x3_viejo),4)\n",
        "  x1_viejo = x1_nuevo\n",
        "  x2_viejo = x2_nuevo\n",
        "  x3_viejo = x3_nuevo\n",
        "  print(f'Er(x1)= {error_x1} ; Er(x2)= {error_x2} ; Er(x3)= {error_x3}\\n')\n",
        "  print('\\n')"
      ],
      "metadata": {
        "colab": {
          "base_uri": "https://localhost:8080/"
        },
        "id": "Njk8UFRNLTBn",
        "outputId": "ecba3acc-8800-49fa-a428-e665927f77dd"
      },
      "execution_count": 37,
      "outputs": [
        {
          "output_type": "stream",
          "name": "stdout",
          "text": [
            "i=1\n",
            "x1= 7.85 ; x2= 2.645 ; x3= -6.9574\n",
            "\n",
            "Er(x1)= 100.0 ; Er(x2)= 100.0 ; Er(x3)= 100.0\n",
            "\n",
            "\n",
            "\n",
            "i=2\n",
            "x1= 6.723 ; x2= 2.3629 ; x3= -6.9856\n",
            "\n",
            "Er(x1)= 16.7633 ; Er(x2)= 11.9387 ; Er(x3)= 0.4037\n",
            "\n",
            "\n",
            "\n",
            "i=3\n",
            "x1= 6.6892 ; x2= 2.3622 ; x3= -6.9866\n",
            "\n",
            "Er(x1)= 0.5053 ; Er(x2)= 0.0296 ; Er(x3)= 0.0143\n",
            "\n",
            "\n",
            "\n",
            "i=4\n",
            "x1= 6.6889 ; x2= 2.3622 ; x3= -6.9866\n",
            "\n",
            "Er(x1)= 0.0045 ; Er(x2)= 0.0 ; Er(x3)= 0.0\n",
            "\n",
            "\n",
            "\n",
            "i=5\n",
            "x1= 6.6889 ; x2= 2.3622 ; x3= -6.9866\n",
            "\n",
            "Er(x1)= 0.0 ; Er(x2)= 0.0 ; Er(x3)= 0.0\n",
            "\n",
            "\n",
            "\n"
          ]
        }
      ]
    },
    {
      "cell_type": "code",
      "source": [],
      "metadata": {
        "id": "AYENiRSZOqtZ"
      },
      "execution_count": null,
      "outputs": []
    }
  ]
}