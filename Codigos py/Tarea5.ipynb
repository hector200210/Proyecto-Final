{
  "cells": [
    {
      "cell_type": "markdown",
      "source": [
        "# Metodo Simpson 1/3 y 6/8"
      ],
      "metadata": {
        "id": "lOdM2pdLwt8N"
      }
    },
    {
      "cell_type": "code",
      "source": [
        "import numpy as np\n",
        "f1 = lambda x: 2*np.cos(2*x)\n",
        "f2 = lambda x: -x**2-x/2+4\n",
        "f3 = lambda x: np.exp(-x**2)\n",
        "er = lambda va, vc: round(abs((va - vc)/va)*100,4)\n",
        "#Intervalos para las funciones.\n",
        "a = [0,0.5,0]\n",
        "b = [np.pi/4,1.5,1]\n",
        "funciones = [f1,f2,f3]\n",
        "nombres = ['f1(x)= 2*cos(2x)', 'f2(x)= -x^2 - x/2 + 4', 'f3(x)= exp(-x^2)']\n",
        "v_a = [1, 2.416666666, 0.7475]\n",
        "\n",
        "def simpson_13(f,a,b):\n",
        "  x1 = (b-a)/2\n",
        "  I = (b-a)*((f(a)+4*f(x1)+f(b))/6)\n",
        "  return round(I,4)\n",
        "\n",
        "def simpson_38(f,a,b):\n",
        "  h = (b-a)/3\n",
        "  I = (b-a)*(f(a)+3*f(a+h)+3*f(a+2*h)+f(b))/8\n",
        "  return round(I,4)\n",
        "\n",
        "for i in range(len(funciones)):\n",
        "    f = funciones[i]\n",
        "    ai = a[i]\n",
        "    bi = b[i]\n",
        "    va = v_a[i]\n",
        "\n",
        "    resultado_13 = simpson_13(f, ai, bi)\n",
        "    resultado_38 = simpson_38(f, ai, bi)\n",
        "    error_13 = er(va, resultado_13)\n",
        "    error_38 = er(va, resultado_38)\n",
        "\n",
        "    print(f'Función{i+1}:\\n')\n",
        "    print(f'  {nombres[i]} en el intervalo [{round(ai, 4)}, {round(bi, 4)}]')\n",
        "    print(f'    Simpson 1/3 ---> Resultado: {round(resultado_13, 4)} ---> Error relativo: {round(error_13, 4)}%')\n",
        "    print(f'    Simpson 3/8 ---> Resultado: {round(resultado_38, 4)} ---> Error relativo: {round(error_38, 4)}%')\n",
        "    print('\\n')"
      ],
      "outputs": [
        {
          "output_type": "stream",
          "name": "stdout",
          "text": "Función1:\n\n  f1(x)= 2*cos(2x) en el intervalo [0, 0.7854]\n    Simpson 1/3 ---> Resultado: 1.0023 ---> Error relativo: 0.23%\n    Simpson 3/8 ---> Resultado: 1.001 ---> Error relativo: 0.1%\n\n\nFunción2:\n\n  f2(x)= -x^2 - x/2 + 4 en el intervalo [0.5, 1.5]\n    Simpson 1/3 ---> Resultado: 3.0833 ---> Error relativo: 27.5848%\n    Simpson 3/8 ---> Resultado: 2.4167 ---> Error relativo: 0.0014%\n\n\nFunción3:\n\n  f3(x)= exp(-x^2) en el intervalo [0, 1]\n    Simpson 1/3 ---> Resultado: 0.7472 ---> Error relativo: 0.0401%\n    Simpson 3/8 ---> Resultado: 0.747 ---> Error relativo: 0.0669%\n\n\n"
        }
      ],
      "execution_count": null,
      "metadata": {
        "id": "eBNszjt6mUyK",
        "colab": {
          "base_uri": "https://localhost:8080/"
        },
        "outputId": "2d0498c9-db87-4e07-fc86-e50885dfda81"
      }
    },
    {
      "cell_type": "markdown",
      "source": [
        "# Diferenciacion"
      ],
      "metadata": {
        "id": "VVRwCXzmw7C4"
      }
    },
    {
      "cell_type": "code",
      "source": [
        "from scipy.misc import derivative\n",
        "fx = lambda x: -x**2 - x/2 + 4\n",
        "h = [0.2,0.1]\n",
        "xi = 0\n",
        "\n",
        "def derivada_adelante(fx,xi,h):\n",
        "  fxip1 = fx(xi+h)\n",
        "  fxip2 = fx(xi+2*h)\n",
        "  return round((-fxip2+4*fxip1-3*fx(xi))/(2*h),4)\n",
        "\n",
        "def derivada_atras(fx,xi,h):\n",
        "  fxim1 = fx(xi-h)\n",
        "  fxim2 = fx(xi-2*h)\n",
        "  return round((3*fx(xi)-4*fxim1+fxim2)/(2*h),4)\n",
        "\n",
        "def derivada_centrada(fx,xi,h):\n",
        "  fxip1 = fx(xi+h)\n",
        "  fxip2 = fx(xi+2*h)\n",
        "  fxim1 = fx(xi-h)\n",
        "  fxim2 = fx(xi-2*h)\n",
        "  return round((-fxip2+8*fxip1-8*fxim1+fxim2)/(12*h),4)\n",
        "\n",
        "print('************************** Valores analiticos **************************')\n",
        "print('\\n')\n",
        "for h_i in h:\n",
        "  print(f'Con \"h={h_i}\" ==>  La derivada analitica es--------------> {round(derivative(fx,xi,h_i),4)}')\n",
        "print('\\n')\n",
        "\n",
        "print('************************** Valores numericos **************************')\n",
        "print('\\n')\n",
        "for h_i in h:\n",
        "  print(f'Con \"h={h_i}\" ==>  La derivada hacia adelante es--------------> {derivada_adelante(fx,xi,h_i)}')\n",
        "  print(f'Con \"h={h_i}\" ==>  La derivada hacia atras es--------------> {derivada_atras(fx,xi,h_i)}')\n",
        "  print(f'Con \"h={h_i}\" ==>  La derivada centrada es--------------> {derivada_centrada(fx,xi,h_i)}')\n",
        "  print('\\n')"
      ],
      "outputs": [
        {
          "output_type": "stream",
          "name": "stdout",
          "text": "************************** Valores analiticos **************************\n\n\nCon \"h=0.2\" ==>  La derivada analitica es--------------> -0.5\nCon \"h=0.1\" ==>  La derivada analitica es--------------> -0.5\n\n\n************************** Valores numericos **************************\n\n\nCon \"h=0.2\" ==>  La derivada hacia adelante es--------------> -0.5\nCon \"h=0.2\" ==>  La derivada hacia atras es--------------> -0.5\nCon \"h=0.2\" ==>  La derivada centrada es--------------> -0.5\n\n\nCon \"h=0.1\" ==>  La derivada hacia adelante es--------------> -0.5\nCon \"h=0.1\" ==>  La derivada hacia atras es--------------> -0.5\nCon \"h=0.1\" ==>  La derivada centrada es--------------> -0.5\n\n\n"
        },
        {
          "output_type": "stream",
          "name": "stderr",
          "text": "<ipython-input-2-f0178cad7f81>:26: DeprecationWarning: scipy.misc.derivative is deprecated in SciPy v1.10.0; and will be completely removed in SciPy v1.12.0. You may consider using findiff: https://github.com/maroba/findiff or numdifftools: https://github.com/pbrod/numdifftools\n  print(f'Con \"h={h_i}\" ==>  La derivada analitica es--------------> {round(derivative(fx,xi,h_i),4)}')\n"
        }
      ],
      "execution_count": 2,
      "metadata": {
        "id": "vD6roe0Jw5rs",
        "colab": {
          "base_uri": "https://localhost:8080/"
        },
        "outputId": "95169a23-397f-4b95-a8e5-b1c48f4dd36f"
      }
    },
    {
      "cell_type": "code",
      "source": [],
      "outputs": [],
      "execution_count": null,
      "metadata": {
        "id": "zXaJXeL4xIz5"
      }
    }
  ],
  "metadata": {
    "colab": {
      "provenance": []
    },
    "kernelspec": {
      "name": "python",
      "language": "python",
      "display_name": "Pyolite (preview)"
    },
    "language_info": {
      "codemirror_mode": {
        "name": "python",
        "version": 3
      },
      "file_extension": ".py",
      "mimetype": "text/x-python",
      "name": "python",
      "nbconvert_exporter": "python",
      "pygments_lexer": "ipython3",
      "version": "3.8"
    },
    "kernel_info": {
      "name": "python"
    },
    "nteract": {
      "version": "nteract-front-end@1.0.0"
    }
  },
  "nbformat": 4,
  "nbformat_minor": 0
}